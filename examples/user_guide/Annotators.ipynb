{
 "cells": [
  {
   "cell_type": "code",
   "execution_count": null,
   "metadata": {},
   "outputs": [],
   "source": [
    "import holoviews as hv\n",
    "import numpy as np\n",
    "import panel as pn\n",
    "\n",
    "from holoviews.annotators import annotate\n",
    "\n",
    "hv.extension('bokeh')"
   ]
  },
  {
   "cell_type": "markdown",
   "metadata": {},
   "source": [
    "It is often important to augment, edit and annotate datasets to provide semantic information, to aid further processing or simply to make the data easier to interpret. To perform these actions HoloViews provides an ``annotate`` helper which makes it easy to edit some element types and add additional information using a table. The `annotate` helper:\n",
    "\n",
    "* Adds plot tools which allow editing and adding new elements to a plot  \n",
    "* Adds table(s) to allow editing the element in a tabular format\n",
    "* Returns a layout of these two components\n",
    "* Makes the edits, annotations and selections available on a property"
   ]
  },
  {
   "cell_type": "markdown",
   "metadata": {},
   "source": [
    "## Basics\n",
    "\n",
    "Let us start by annotating a simple set of Points, we can do this in three steps:\n",
    "\n",
    "1. Create the element to annotate/edit\n",
    "2. Create an instance of the `annotate` helper (this will allow us to access the edited/annotated data)\n",
    "3. Call the instance with the element to annotate and any parameters, such as the names of any annotations to add.\n",
    "\n",
    "The returned object is a Layout consisting of the object to be annotated and an Overlay of the table(s) used to edit the data:"
   ]
  },
  {
   "cell_type": "code",
   "execution_count": null,
   "metadata": {},
   "outputs": [],
   "source": [
    "points = hv.Points([(0, 0), (1, 1), (2, 2)]).opts(height=400)\n",
    "\n",
    "annotator = annotate.instance() \n",
    "\n",
    "layout = annotator(points, annotations=['Label'])\n",
    "\n",
    "print(layout)\n",
    "\n",
    "layout"
   ]
  },
  {
   "cell_type": "markdown",
   "metadata": {},
   "source": [
    "You will note that the toolbar contains a [PointDraw tool](../reference/streams/PointDraw.ipynb) which allows us to drag and add points and the table contains the additional 'Label' column we requested. Additionally the plot and table are linked so a change in one will immediately appear in the other.\n",
    "\n",
    "Making an explicit instance of the `annotate` function allows to access the annotated and edited data on the ``annotated`` attribute:"
   ]
  },
  {
   "cell_type": "code",
   "execution_count": null,
   "metadata": {},
   "outputs": [],
   "source": [
    "annotator.annotated.dframe()"
   ]
  },
  {
   "cell_type": "markdown",
   "metadata": {},
   "source": [
    "Separately we can also access the currently `selected` points in case we care only about a subset of the points."
   ]
  },
  {
   "cell_type": "code",
   "execution_count": null,
   "metadata": {},
   "outputs": [],
   "source": [
    "annotator.selected.dframe()"
   ]
  },
  {
   "cell_type": "markdown",
   "metadata": {},
   "source": [
    "## Types of Annotators\n",
    "\n",
    "Currently only a limited set of Elements may be annotated, these include:\n",
    "\n",
    "* Points\n",
    "* Path\n",
    "* Polygon\n",
    "\n",
    "Further annotators will be added in future releases."
   ]
  },
  {
   "cell_type": "markdown",
   "metadata": {},
   "source": [
    "### Annotating paths/polygons"
   ]
  },
  {
   "cell_type": "markdown",
   "metadata": {},
   "source": [
    "Unlike the Points annotator the Path and Polygon annotators allow annotating not just each individual entity but also the vertices that make up the paths and polygons. For more information about using the editing tools associated with this annotator refer to the [PolyDraw](../reference/streams/PolyDraw.ipynb) and [PolyEdit](../reference/streams/PolyEdit.ipynb) reference guides. To edit and annotate the vertices use the draw tool to select a particular path/polygon and then navigate to the Vertices tab."
   ]
  },
  {
   "cell_type": "code",
   "execution_count": null,
   "metadata": {},
   "outputs": [],
   "source": [
    "path = hv.Path([hv.Box(0, 0, 1), hv.Ellipse(1, 1, 1)])\n",
    "\n",
    "path_annotator = annotate.instance()\n",
    "\n",
    "path_annotator(path, annotations=['Label'], vertex_annotations=['Value'])"
   ]
  },
  {
   "cell_type": "markdown",
   "metadata": {},
   "source": [
    "To access this data we can make use of the `split` method on Path objects to access each path individually allowing us to look at the values:"
   ]
  },
  {
   "cell_type": "code",
   "execution_count": null,
   "metadata": {},
   "outputs": [],
   "source": [
    "el1, el2 = path_annotator.annotated.split()[:2]\n",
    "\n",
    "el1.dframe()"
   ]
  },
  {
   "cell_type": "markdown",
   "metadata": {},
   "source": [
    "## Composing Annotators\n",
    "\n",
    "Composing the layouts returned by the `annotate` helper is not entirely straightforward so the `annotate` helper also provides a classmethod that allows composing multiple annotators and other elements, e.g. such as a set of tiles into a combined layout consisting of all the components."
   ]
  },
  {
   "cell_type": "code",
   "execution_count": null,
   "metadata": {},
   "outputs": [],
   "source": [
    "point_annotator = annotate.instance()\n",
    "point_layout = point_annotator(hv.Points([(500000, 500000), (1000000, 1000000)]).opts(tools=['hover']), annotations=['Label'])\n",
    "\n",
    "poly_annotator = annotate.instance()\n",
    "path_layout = path_annotator(hv.Polygons([]), annotations=['Label'])\n",
    "\n",
    "annotate.compose(hv.element.tiles.Wikipedia(), point_layout, path_layout)"
   ]
  }
 ],
 "metadata": {
  "language_info": {
   "name": "python",
   "pygments_lexer": "ipython3"
  }
 },
 "nbformat": 4,
 "nbformat_minor": 4
}
